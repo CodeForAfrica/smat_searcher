{
 "cells": [
  {
   "cell_type": "code",
   "execution_count": null,
   "id": "d882394f",
   "metadata": {
    "tags": [
     "soorgeon-imports"
    ]
   },
   "outputs": [],
   "source": [
    "\n",
    "from pathlib import Path\n",
    "import pickle\n",
    "from exported import search_results, collate_results, main"
   ]
  },
  {
   "cell_type": "code",
   "execution_count": null,
   "id": "6aeb7f08",
   "metadata": {
    "tags": [
     "parameters"
    ]
   },
   "outputs": [],
   "source": [
    "upstream = None\n",
    "product = None"
   ]
  },
  {
   "cell_type": "code",
   "execution_count": null,
   "id": "75c05fa4",
   "metadata": {
    "tags": [
     "parameters"
    ]
   },
   "outputs": [],
   "source": [
    "upstream = None"
   ]
  },
  {
   "cell_type": "markdown",
   "id": "6cec757b-32d5-40fd-a4ff-d93dd8ee285b",
   "metadata": {
    "tags": []
   },
   "source": [
    "# Keyword Search with SMAT API "
   ]
  },
  {
   "cell_type": "markdown",
   "id": "93c5dc7a-dd1b-40b4-96f4-777851cebb5a",
   "metadata": {
    "tags": []
   },
   "source": [
    "## Load "
   ]
  },
  {
   "cell_type": "code",
   "execution_count": 4,
   "id": "f3f73a7b-0b23-494c-945f-1accea3e6748",
   "metadata": {},
   "outputs": [],
   "source": [
    "url = \"https://api.smat-app.com/content?\"\n",
    "key_terms = \"(Russia, Russie, Russe, Ambassade de Russie, Moscou, Wagner) AND (République centrafricaine, centrafricaine, RCA, Centrafrique, Central African Republic, Bangui)\""
   ]
  },
  {
   "cell_type": "code",
   "execution_count": 5,
   "id": "cef8dced-9d90-4417-ad6c-2e4b0d95efdd",
   "metadata": {},
   "outputs": [],
   "source": [
    "site = \"telegram\"\n",
    "start_date = \"2022-03-01\"\n",
    "last_date = \"2022-03-31\""
   ]
  },
  {
   "cell_type": "code",
   "execution_count": 6,
   "id": "48e34ad7-7a5d-4341-89b4-a1cc51b76f07",
   "metadata": {},
   "outputs": [],
   "source": [
    "params = {\n",
    "    \"term\": key_terms, \n",
    "    \"site\": site, \n",
    "    \"since\": start_date, \n",
    "    \"until\": last_date ,\n",
    "    \"esquery\":\"true\",\n",
    "    \"sortdesc\":\"false\"\n",
    "}"
   ]
  },
  {
   "cell_type": "code",
   "execution_count": null,
   "id": "397c711e",
   "metadata": {
    "tags": [
     "soorgeon-pickle"
    ]
   },
   "outputs": [],
   "source": [
    "Path(product['params']).parent.mkdir(exist_ok=True, parents=True)\n",
    "Path(product['params']).write_bytes(pickle.dumps(params))\n",
    "\n",
    "Path(product['url']).parent.mkdir(exist_ok=True, parents=True)\n",
    "Path(product['url']).write_bytes(pickle.dumps(url))"
   ]
  }
 ],
 "metadata": {
  "kernelspec": {
   "display_name": "Python 3",
   "language": "python",
   "name": "python3"
  }
 },
 "nbformat": 4,
 "nbformat_minor": 5
}