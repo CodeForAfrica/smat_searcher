{
 "cells": [
  {
   "cell_type": "code",
   "execution_count": null,
   "id": "4ddb5544",
   "metadata": {
    "tags": [
     "soorgeon-imports"
    ]
   },
   "outputs": [],
   "source": [
    "import requests\n",
    "from exported import search_results, collate_results, main"
   ]
  },
  {
   "cell_type": "code",
   "execution_count": null,
   "id": "23dc7db7",
   "metadata": {
    "tags": [
     "parameters"
    ]
   },
   "outputs": [],
   "source": [
    "upstream = None\n",
    "product = None"
   ]
  },
  {
   "cell_type": "markdown",
   "id": "12345375-24a6-432b-aee4-94d89c6cb394",
   "metadata": {},
   "source": [
    "## Search"
   ]
  },
  {
   "cell_type": "code",
   "execution_count": 11,
   "id": "1caed536-282a-4bf8-b900-66a94a629b37",
   "metadata": {},
   "outputs": [],
   "source": [
    "def search_results(args,kwargs):\n",
    "    response = requests.get(args,\n",
    "                            kwargs)\n",
    "    c = response.json()\n",
    "    search_results = c['hits']['hits']\n",
    "    return search_results"
   ]
  }
 ],
 "metadata": {
  "kernelspec": {
   "display_name": "Python 3",
   "language": "python",
   "name": "python3"
  }
 },
 "nbformat": 4,
 "nbformat_minor": 5
}