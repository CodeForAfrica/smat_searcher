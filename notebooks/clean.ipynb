{
 "cells": [
  {
   "cell_type": "code",
   "execution_count": 5,
   "id": "ed66de8c",
   "metadata": {
    "papermill": {
     "duration": 0.023594,
     "end_time": "2022-03-31T13:47:37.754323",
     "exception": false,
     "start_time": "2022-03-31T13:47:37.730729",
     "status": "completed"
    },
    "tags": [
     "parameters"
    ]
   },
   "outputs": [],
   "source": [
    "# declare a list tasks whose products you want to use as inputs\n",
    "upstream = ['get']\n"
   ]
  },
  {
   "cell_type": "code",
   "execution_count": 6,
   "id": "9ea188bb",
   "metadata": {
    "papermill": {
     "duration": 0.010192,
     "end_time": "2022-03-31T13:47:37.770341",
     "exception": false,
     "start_time": "2022-03-31T13:47:37.760149",
     "status": "completed"
    },
    "tags": [
     "injected-parameters"
    ]
   },
   "outputs": [],
   "source": [
    "# Parameters\n",
    "product = {\n",
    "    \"nb\": \"/Users/RobinKiplangat/projects/ANCIR/smat_searcher/notebooks/clean.ipynb\",\n",
    "    \"data\": \"/Users/RobinKiplangat/projects/ANCIR/smat_searcher/products/clean.csv\",\n",
    "}\n"
   ]
  },
  {
   "cell_type": "code",
   "execution_count": 7,
   "id": "3ad51d88",
   "metadata": {
    "papermill": {
     "duration": 0.259902,
     "end_time": "2022-03-31T13:47:38.033859",
     "exception": false,
     "start_time": "2022-03-31T13:47:37.773957",
     "status": "completed"
    },
    "tags": []
   },
   "outputs": [],
   "source": [
    "from unittest import result\n",
    "import pandas as pd\n",
    "import json"
   ]
  },
  {
   "cell_type": "code",
   "execution_count": 9,
   "id": "86a10646",
   "metadata": {
    "papermill": {
     "duration": 0.008425,
     "end_time": "2022-03-31T13:47:38.057893",
     "exception": false,
     "start_time": "2022-03-31T13:47:38.049468",
     "status": "completed"
    },
    "tags": []
   },
   "outputs": [],
   "source": [
    "product = {\n",
    "    \"nb\": \"notebooks/clean.ipynb\",\n",
    "    # clean data\n",
    "    \"data\": \"products/clean.csv\"\n",
    "}"
   ]
  },
  {
   "cell_type": "code",
   "execution_count": 10,
   "id": "6782cc8b",
   "metadata": {
    "papermill": {
     "duration": 0.010949,
     "end_time": "2022-03-31T13:47:38.072603",
     "exception": false,
     "start_time": "2022-03-31T13:47:38.061654",
     "status": "completed"
    },
    "tags": []
   },
   "outputs": [],
   "source": [
    "def collate_results(result):\n",
    "    data = []\n",
    "    for item in result:\n",
    "        d = {}\n",
    "        try:\n",
    "            #  Channel Title\n",
    "            d[\"Channel\"] = item['_source']['channeltitle']\n",
    "            #  Channel description\n",
    "            d[\"desc\"] = item['_source']['channelabout']\n",
    "            # Channel UserName\n",
    "            d[\"UserName\"] = item['_source']['channelusername']\n",
    "            #   Resulting Message\n",
    "            d[\"msg\"] = item['_source']['message']\n",
    "            #   channel url\n",
    "            d[\"c_URL\"] = item['_source']['entities'][0]['url']\n",
    "        except:\n",
    "            pass\n",
    "            #   collect data in a list\n",
    "        data.append(d)\n",
    "    # store data in a dataframe\n",
    "    frame = pd.DataFrame(data)\n",
    "    frame.to_csv('./products/clean.csv')\n",
    "\n",
    "    return frame"
   ]
  },
  {
   "cell_type": "code",
   "execution_count": null,
   "id": "8eb37877-fa53-48cc-9f55-a81c79478c39",
   "metadata": {},
   "outputs": [],
   "source": []
  }
 ],
 "metadata": {
  "jupytext": {
   "cell_metadata_filter": "tags,-all",
   "main_language": "python",
   "notebook_metadata_filter": "-all",
   "text_representation": {
    "extension": ".py",
    "format_name": "light"
   }
  },
  "kernelspec": {
   "display_name": "Python 3 (ipykernel)",
   "language": "python",
   "name": "python3"
  },
  "language_info": {
   "codemirror_mode": {
    "name": "ipython",
    "version": 3
   },
   "file_extension": ".py",
   "mimetype": "text/x-python",
   "name": "python",
   "nbconvert_exporter": "python",
   "pygments_lexer": "ipython3",
   "version": "3.8.12"
  },
  "papermill": {
   "duration": 1.674093,
   "end_time": "2022-03-31T13:47:38.285847",
   "exception": null,
   "input_path": "/var/folders/pc/9q0fh36j7z1c_rq4p29rs9s40000gp/T/tmpaqwstcdq.ipynb",
   "output_path": "/Users/RobinKiplangat/projects/ANCIR/smat_searcher/notebooks/clean.ipynb",
   "parameters": {
    "product": {
     "data": "/Users/RobinKiplangat/projects/ANCIR/smat_searcher/products/clean.csv",
     "nb": "/Users/RobinKiplangat/projects/ANCIR/smat_searcher/notebooks/clean.ipynb"
    }
   },
   "start_time": "2022-03-31T13:47:36.611754"
  }
 },
 "nbformat": 4,
 "nbformat_minor": 5
}
