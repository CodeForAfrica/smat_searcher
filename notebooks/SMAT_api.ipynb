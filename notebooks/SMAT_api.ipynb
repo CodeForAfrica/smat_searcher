{
 "cells": [
  {
   "cell_type": "code",
   "execution_count": null,
   "id": "75c05fa4",
   "metadata": {
    "tags": [
     "parameters"
    ]
   },
   "outputs": [],
   "source": [
    "upstream = None"
   ]
  },
  {
   "cell_type": "markdown",
   "id": "6cec757b-32d5-40fd-a4ff-d93dd8ee285b",
   "metadata": {
    "tags": []
   },
   "source": [
    "# Keyword Search with SMAT API "
   ]
  },
  {
   "cell_type": "markdown",
   "id": "93c5dc7a-dd1b-40b4-96f4-777851cebb5a",
   "metadata": {
    "tags": []
   },
   "source": [
    "## Load "
   ]
  },
  {
   "cell_type": "code",
   "execution_count": 1,
   "id": "4a857a5f-bce6-494a-81d3-690ae30bb871",
   "metadata": {},
   "outputs": [],
   "source": [
    "import pandas as pd \n",
    "import requests"
   ]
  },
  {
   "cell_type": "code",
   "execution_count": 4,
   "id": "f3f73a7b-0b23-494c-945f-1accea3e6748",
   "metadata": {},
   "outputs": [],
   "source": [
    "url = \"https://api.smat-app.com/content?\"\n",
    "key_terms = \"(Russia, Russie, Russe, Ambassade de Russie, Moscou, Wagner) AND (République centrafricaine, centrafricaine, RCA, Centrafrique, Central African Republic, Bangui)\""
   ]
  },
  {
   "cell_type": "code",
   "execution_count": 5,
   "id": "cef8dced-9d90-4417-ad6c-2e4b0d95efdd",
   "metadata": {},
   "outputs": [],
   "source": [
    "site = \"telegram\"\n",
    "start_date = \"2022-03-01\"\n",
    "last_date = \"2022-03-31\""
   ]
  },
  {
   "cell_type": "code",
   "execution_count": 6,
   "id": "48e34ad7-7a5d-4341-89b4-a1cc51b76f07",
   "metadata": {},
   "outputs": [],
   "source": [
    "params = {\n",
    "    \"term\": key_terms, \n",
    "    \"site\": site, \n",
    "    \"since\": start_date, \n",
    "    \"until\": last_date ,\n",
    "    \"esquery\":\"true\",\n",
    "    \"sortdesc\":\"false\"\n",
    "}"
   ]
  },
  {
   "cell_type": "markdown",
   "id": "12345375-24a6-432b-aee4-94d89c6cb394",
   "metadata": {},
   "source": [
    "## Search"
   ]
  },
  {
   "cell_type": "code",
   "execution_count": 11,
   "id": "1caed536-282a-4bf8-b900-66a94a629b37",
   "metadata": {},
   "outputs": [],
   "source": [
    "def search_results(args,kwargs):\n",
    "    response = requests.get(args,\n",
    "                            kwargs)\n",
    "    c = response.json()\n",
    "    search_results = c['hits']['hits']\n",
    "    return search_results"
   ]
  },
  {
   "cell_type": "markdown",
   "id": "6b7e4e17-9936-40dc-b433-697836ff0a4a",
   "metadata": {},
   "source": [
    "## Collate"
   ]
  },
  {
   "cell_type": "code",
   "execution_count": 9,
   "id": "72b6c291-120c-4b16-a1ca-d1fe7094f62e",
   "metadata": {},
   "outputs": [],
   "source": [
    "def collate_results(results):\n",
    "    data = []\n",
    "    for item in results:\n",
    "        d={}\n",
    "        try:\n",
    "            #  Channel Title\n",
    "            d[\"Channel\"] = item['_source']['channeltitle']\n",
    "            #  Channel description \n",
    "            d[\"desc\"] = item['_source']['channelabout'] \n",
    "            # Channel UserName\n",
    "            d[\"UserName\"] = item['_source']['channelusername']\n",
    "             #   Resulting Message\n",
    "            d[\"msg\"] = item['_source']['message']\n",
    "            #   channel url\n",
    "            d[\"c_URL\"] = item['_source']['entities'][0]['url']\n",
    "        except:\n",
    "            pass\n",
    "            #   collect data in a list\n",
    "        data.append(d)\n",
    "    # store data in a dataframe\n",
    "    frame = pd.DataFrame(data)\n",
    "    \n",
    "    return frame \n",
    "\n",
    "def main(args,kwargs):\n",
    "    results = search_results(args,kwargs)\n",
    "    frame = collate_results(results)\n",
    "    frame.to_csv('data/search_results.csv')\n",
    "    return frame"
   ]
  },
  {
   "cell_type": "code",
   "execution_count": 23,
   "id": "5f749f0f-c3d4-43ee-9e3f-c50ea47cb875",
   "metadata": {},
   "outputs": [
    {
     "data": {
      "text/html": [
       "<div>\n",
       "<style scoped>\n",
       "    .dataframe tbody tr th:only-of-type {\n",
       "        vertical-align: middle;\n",
       "    }\n",
       "\n",
       "    .dataframe tbody tr th {\n",
       "        vertical-align: top;\n",
       "    }\n",
       "\n",
       "    .dataframe thead th {\n",
       "        text-align: right;\n",
       "    }\n",
       "</style>\n",
       "<table border=\"1\" class=\"dataframe\">\n",
       "  <thead>\n",
       "    <tr style=\"text-align: right;\">\n",
       "      <th></th>\n",
       "      <th>Channel</th>\n",
       "      <th>desc</th>\n",
       "      <th>UserName</th>\n",
       "      <th>msg</th>\n",
       "    </tr>\n",
       "  </thead>\n",
       "  <tbody>\n",
       "    <tr>\n",
       "      <th>0</th>\n",
       "      <td>Russian Federation's Pro-Putin Channel</td>\n",
       "      <td>A Channel that tries to show the good side of ...</td>\n",
       "      <td>PutinistRussia</td>\n",
       "      <td>Pro-Russia Protesters Rally in Central African...</td>\n",
       "    </tr>\n",
       "    <tr>\n",
       "      <th>1</th>\n",
       "      <td>Ukraine NOW [French]</td>\n",
       "      <td>La source principale d'informations officielle...</td>\n",
       "      <td>UkraineNowFrench</td>\n",
       "      <td>❕Le 18 mars, le Président Joe Biden discutera ...</td>\n",
       "    </tr>\n",
       "    <tr>\n",
       "      <th>2</th>\n",
       "      <td>Ukraine NOW [French]</td>\n",
       "      <td>La source principale d'informations officielle...</td>\n",
       "      <td>UkraineNowFrench</td>\n",
       "      <td>🇵🇱 Le premier ministre de la Pologne, Mateusz ...</td>\n",
       "    </tr>\n",
       "    <tr>\n",
       "      <th>3</th>\n",
       "      <td>Ukraine NOW [French]</td>\n",
       "      <td>La source principale d'informations officielle...</td>\n",
       "      <td>UkraineNowFrench</td>\n",
       "      <td>⚡️Le Magasin Central Universel à Moscou (TSUM)...</td>\n",
       "    </tr>\n",
       "    <tr>\n",
       "      <th>4</th>\n",
       "      <td>Ukraine NOW [French]</td>\n",
       "      <td>La source principale d'informations officielle...</td>\n",
       "      <td>UkraineNowFrench</td>\n",
       "      <td>❗️Le chef de L'Ossétie du Sud-Alanie autoprocl...</td>\n",
       "    </tr>\n",
       "    <tr>\n",
       "      <th>5</th>\n",
       "      <td>Ukraine NOW [French]</td>\n",
       "      <td>La source principale d'informations officielle...</td>\n",
       "      <td>UkraineNowFrench</td>\n",
       "      <td>⚡️ Front diplomatique : grâce au fonctionnemen...</td>\n",
       "    </tr>\n",
       "    <tr>\n",
       "      <th>6</th>\n",
       "      <td>Our Wars, Today - Chat</td>\n",
       "      <td>Behave or Banished</td>\n",
       "      <td>NaN</td>\n",
       "      <td>NaN</td>\n",
       "    </tr>\n",
       "    <tr>\n",
       "      <th>7</th>\n",
       "      <td>Ukraine NOW [French]</td>\n",
       "      <td>La source principale d'informations officielle...</td>\n",
       "      <td>UkraineNowFrench</td>\n",
       "      <td>⚡️Dmytro Kuleba, a qualifié la tentative de la...</td>\n",
       "    </tr>\n",
       "    <tr>\n",
       "      <th>8</th>\n",
       "      <td>Ukraine NOW [French]</td>\n",
       "      <td>La source principale d'informations officielle...</td>\n",
       "      <td>UkraineNowFrench</td>\n",
       "      <td>⚡️ MINISTÈRE DES AFFAIRES ÉTRANGÈRES : LES DER...</td>\n",
       "    </tr>\n",
       "    <tr>\n",
       "      <th>9</th>\n",
       "      <td>B17News</td>\n",
       "      <td>DIGITAL SOLDIERS‼️WWG1WGA‼️</td>\n",
       "      <td>lichtanonsmensch</td>\n",
       "      <td>🇷🇺⚡️Fighters &amp; Mercenaries from the Central Af...</td>\n",
       "    </tr>\n",
       "  </tbody>\n",
       "</table>\n",
       "</div>"
      ],
      "text/plain": [
       "                                  Channel  \\\n",
       "0  Russian Federation's Pro-Putin Channel   \n",
       "1                    Ukraine NOW [French]   \n",
       "2                    Ukraine NOW [French]   \n",
       "3                    Ukraine NOW [French]   \n",
       "4                    Ukraine NOW [French]   \n",
       "5                    Ukraine NOW [French]   \n",
       "6                  Our Wars, Today - Chat   \n",
       "7                    Ukraine NOW [French]   \n",
       "8                    Ukraine NOW [French]   \n",
       "9                                 B17News   \n",
       "\n",
       "                                                desc          UserName  \\\n",
       "0  A Channel that tries to show the good side of ...    PutinistRussia   \n",
       "1  La source principale d'informations officielle...  UkraineNowFrench   \n",
       "2  La source principale d'informations officielle...  UkraineNowFrench   \n",
       "3  La source principale d'informations officielle...  UkraineNowFrench   \n",
       "4  La source principale d'informations officielle...  UkraineNowFrench   \n",
       "5  La source principale d'informations officielle...  UkraineNowFrench   \n",
       "6                                 Behave or Banished               NaN   \n",
       "7  La source principale d'informations officielle...  UkraineNowFrench   \n",
       "8  La source principale d'informations officielle...  UkraineNowFrench   \n",
       "9                        DIGITAL SOLDIERS‼️WWG1WGA‼️  lichtanonsmensch   \n",
       "\n",
       "                                                 msg  \n",
       "0  Pro-Russia Protesters Rally in Central African...  \n",
       "1  ❕Le 18 mars, le Président Joe Biden discutera ...  \n",
       "2  🇵🇱 Le premier ministre de la Pologne, Mateusz ...  \n",
       "3  ⚡️Le Magasin Central Universel à Moscou (TSUM)...  \n",
       "4  ❗️Le chef de L'Ossétie du Sud-Alanie autoprocl...  \n",
       "5  ⚡️ Front diplomatique : grâce au fonctionnemen...  \n",
       "6                                                NaN  \n",
       "7  ⚡️Dmytro Kuleba, a qualifié la tentative de la...  \n",
       "8  ⚡️ MINISTÈRE DES AFFAIRES ÉTRANGÈRES : LES DER...  \n",
       "9  🇷🇺⚡️Fighters & Mercenaries from the Central Af...  "
      ]
     },
     "execution_count": 23,
     "metadata": {},
     "output_type": "execute_result"
    }
   ],
   "source": [
    "main(url,params)"
   ]
  },
  {
   "cell_type": "code",
   "execution_count": null,
   "id": "98e48846-7c51-477e-81da-238e183aba90",
   "metadata": {},
   "outputs": [],
   "source": []
  }
 ],
 "metadata": {
  "kernelspec": {
   "display_name": "Python 3 (ipykernel)",
   "language": "python",
   "name": "python3"
  },
  "language_info": {
   "codemirror_mode": {
    "name": "ipython",
    "version": 3
   },
   "file_extension": ".py",
   "mimetype": "text/x-python",
   "name": "python",
   "nbconvert_exporter": "python",
   "pygments_lexer": "ipython3",
   "version": "3.8.12"
  }
 },
 "nbformat": 4,
 "nbformat_minor": 5
}
