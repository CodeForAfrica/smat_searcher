{
 "cells": [
  {
   "cell_type": "code",
   "execution_count": 1,
   "id": "dc988e0f",
   "metadata": {
    "papermill": {
     "duration": 0.019568,
     "end_time": "2022-03-31T13:46:39.072715",
     "exception": false,
     "start_time": "2022-03-31T13:46:39.053147",
     "status": "completed"
    },
    "tags": [
     "parameters"
    ]
   },
   "outputs": [],
   "source": [
    "# declare a list tasks whose products you want to use as inputs\n",
    "upstream = None\n"
   ]
  },
  {
   "cell_type": "code",
   "execution_count": 2,
   "id": "20b3a6c6",
   "metadata": {
    "papermill": {
     "duration": 0.011044,
     "end_time": "2022-03-31T13:46:39.089646",
     "exception": false,
     "start_time": "2022-03-31T13:46:39.078602",
     "status": "completed"
    },
    "tags": [
     "injected-parameters"
    ]
   },
   "outputs": [],
   "source": [
    "# Parameters\n",
    "product = {\n",
    "    \"nb\": \"/Users/RobinKiplangat/projects/ANCIR/smat_searcher/notebooks/get.ipynb\"\n",
    "}\n"
   ]
  },
  {
   "cell_type": "code",
   "execution_count": 3,
   "id": "30efc0dd",
   "metadata": {
    "papermill": {
     "duration": 0.061097,
     "end_time": "2022-03-31T13:46:39.155791",
     "exception": false,
     "start_time": "2022-03-31T13:46:39.094694",
     "status": "completed"
    },
    "tags": []
   },
   "outputs": [],
   "source": [
    "import requests"
   ]
  },
  {
   "cell_type": "code",
   "execution_count": 4,
   "id": "ca86c634",
   "metadata": {
    "papermill": {
     "duration": 0.009686,
     "end_time": "2022-03-31T13:46:39.170258",
     "exception": false,
     "start_time": "2022-03-31T13:46:39.160572",
     "status": "completed"
    },
    "tags": []
   },
   "outputs": [],
   "source": [
    "upstream = None"
   ]
  },
  {
   "cell_type": "code",
   "execution_count": 5,
   "id": "ed56ad5a",
   "metadata": {
    "papermill": {
     "duration": 0.00944,
     "end_time": "2022-03-31T13:46:39.184213",
     "exception": false,
     "start_time": "2022-03-31T13:46:39.174773",
     "status": "completed"
    },
    "tags": []
   },
   "outputs": [],
   "source": [
    "# This is a placeholder, leave it as None\n",
    "product = {\"nb\":\"notebooks/get.ipynb\"}"
   ]
  },
  {
   "cell_type": "code",
   "execution_count": 6,
   "id": "943c714c",
   "metadata": {
    "papermill": {
     "duration": 0.009581,
     "end_time": "2022-03-31T13:46:39.198713",
     "exception": false,
     "start_time": "2022-03-31T13:46:39.189132",
     "status": "completed"
    },
    "tags": []
   },
   "outputs": [],
   "source": [
    "url = \"https://api.smat-app.com/content?\"\n",
    "key_terms = \"(Russia, Russie, Russe, Ambassade de Russie, Moscou, Wagner) AND (République centrafricaine, centrafricaine, RCA, Centrafrique, Central African Republic, Bangui)\""
   ]
  },
  {
   "cell_type": "code",
   "execution_count": 7,
   "id": "81f0c1aa",
   "metadata": {
    "papermill": {
     "duration": 0.01022,
     "end_time": "2022-03-31T13:46:39.213561",
     "exception": false,
     "start_time": "2022-03-31T13:46:39.203341",
     "status": "completed"
    },
    "tags": []
   },
   "outputs": [],
   "source": [
    "site = \"telegram\"\n",
    "start_date = \"2022-03-01\"\n",
    "last_date = \"2022-03-31\""
   ]
  },
  {
   "cell_type": "code",
   "execution_count": 8,
   "id": "fad94d08",
   "metadata": {
    "papermill": {
     "duration": 0.010224,
     "end_time": "2022-03-31T13:46:39.228759",
     "exception": false,
     "start_time": "2022-03-31T13:46:39.218535",
     "status": "completed"
    },
    "tags": []
   },
   "outputs": [],
   "source": [
    "params = {\n",
    "    \"term\": key_terms,\n",
    "    \"site\": site,\n",
    "    \"since\": start_date,\n",
    "    \"until\": last_date,\n",
    "    \"esquery\": \"true\",\n",
    "    \"sortdesc\": \"false\"\n",
    "}"
   ]
  },
  {
   "cell_type": "code",
   "execution_count": 9,
   "id": "d651f1ff",
   "metadata": {
    "papermill": {
     "duration": 0.010756,
     "end_time": "2022-03-31T13:46:39.244733",
     "exception": false,
     "start_time": "2022-03-31T13:46:39.233977",
     "status": "completed"
    },
    "tags": []
   },
   "outputs": [],
   "source": [
    "def search_results(url, params):\n",
    "    response = requests.get(url,\n",
    "                            params=params)\n",
    "    c = response.json()\n",
    "    search_results = c['hits']['hits']\n",
    "    return search_results"
   ]
  },
  {
   "cell_type": "code",
   "execution_count": null,
   "id": "f4a21bf2-cdf0-40f5-a044-3a19ac625ca3",
   "metadata": {},
   "outputs": [],
   "source": []
  }
 ],
 "metadata": {
  "jupytext": {
   "cell_metadata_filter": "tags,-all",
   "main_language": "python",
   "notebook_metadata_filter": "-all",
   "text_representation": {
    "extension": ".py",
    "format_name": "light"
   }
  },
  "kernelspec": {
   "display_name": "Python 3 (ipykernel)",
   "language": "python",
   "name": "python3"
  },
  "language_info": {
   "codemirror_mode": {
    "name": "ipython",
    "version": 3
   },
   "file_extension": ".py",
   "mimetype": "text/x-python",
   "name": "python",
   "nbconvert_exporter": "python",
   "pygments_lexer": "ipython3",
   "version": "3.8.12"
  },
  "papermill": {
   "duration": 1.265942,
   "end_time": "2022-03-31T13:46:39.356202",
   "exception": null,
   "input_path": "/var/folders/pc/9q0fh36j7z1c_rq4p29rs9s40000gp/T/tmpi4081gc2.ipynb",
   "output_path": "/Users/RobinKiplangat/projects/ANCIR/smat_searcher/notebooks/get.ipynb",
   "parameters": {
    "product": {
     "nb": "/Users/RobinKiplangat/projects/ANCIR/smat_searcher/notebooks/get.ipynb"
    }
   },
   "start_time": "2022-03-31T13:46:38.090260"
  }
 },
 "nbformat": 4,
 "nbformat_minor": 5
}
